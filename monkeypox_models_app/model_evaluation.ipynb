{
 "cells": [
  {
   "cell_type": "code",
   "execution_count": 1,
   "metadata": {},
   "outputs": [],
   "source": [
    "import tensorflow as tf\n",
    "from keras.preprocessing.image import ImageDataGenerator\n",
    "import pandas as pd\n",
    "from sklearn.metrics import roc_curve\n",
    "import matplotlib.pyplot as plt\n",
    "import seaborn as sn"
   ]
  },
  {
   "cell_type": "code",
   "execution_count": 2,
   "metadata": {},
   "outputs": [
    {
     "name": "stdout",
     "output_type": "stream",
     "text": [
      "Found 45 images belonging to 2 classes.\n"
     ]
    }
   ],
   "source": [
    "## Load the test set for model evaluation\n",
    "test_loc = 'Fold1/Fold1/Test'\n",
    "test = ImageDataGenerator(rescale = 1/255)\n",
    "test_dataset = test.flow_from_directory(directory=test_loc,\n",
    "                                     classes = ['Others', 'Monkeypox'],\n",
    "                                     target_size=(224,224),\n",
    "                                     class_mode = \"binary\",\n",
    "                                     batch_size=32,\n",
    "                                     shuffle=False,\n",
    "                                     seed = 42)"
   ]
  },
  {
   "cell_type": "code",
   "execution_count": 3,
   "metadata": {},
   "outputs": [
    {
     "name": "stderr",
     "output_type": "stream",
     "text": [
      "2022-12-14 16:51:31.043563: I tensorflow/core/platform/cpu_feature_guard.cc:193] This TensorFlow binary is optimized with oneAPI Deep Neural Network Library (oneDNN) to use the following CPU instructions in performance-critical operations:  SSE4.1 SSE4.2\n",
      "To enable them in other operations, rebuild TensorFlow with the appropriate compiler flags.\n"
     ]
    }
   ],
   "source": [
    "# Load the model to evaluate\n",
    "model = tf.keras.models.load_model('saved_model/cnn_model.h5')"
   ]
  },
  {
   "attachments": {},
   "cell_type": "markdown",
   "metadata": {},
   "source": [
    "## Test Accuracy and Test Loss"
   ]
  },
  {
   "cell_type": "code",
   "execution_count": 4,
   "metadata": {},
   "outputs": [
    {
     "name": "stdout",
     "output_type": "stream",
     "text": [
      "2/2 - 0s - loss: 0.6409 - accuracy: 0.7333 - 477ms/epoch - 239ms/step\n",
      "\n",
      "Test accuracy: 0.7333333492279053\n",
      "\n",
      "Test loss: 0.6408994197845459\n"
     ]
    }
   ],
   "source": [
    "test_loss, test_acc = model.evaluate(test_dataset, verbose=2)\n",
    "print('\\nTest accuracy:', test_acc)\n",
    "print('\\nTest loss:', test_loss)"
   ]
  },
  {
   "attachments": {},
   "cell_type": "markdown",
   "metadata": {},
   "source": [
    "## Confusion Matrix"
   ]
  },
  {
   "cell_type": "code",
   "execution_count": 5,
   "metadata": {},
   "outputs": [
    {
     "name": "stdout",
     "output_type": "stream",
     "text": [
      "2/2 [==============================] - 0s 79ms/step\n"
     ]
    }
   ],
   "source": [
    "pred_prob = model.predict(test_dataset) #get the probability predicted by the model"
   ]
  },
  {
   "cell_type": "code",
   "execution_count": 6,
   "metadata": {},
   "outputs": [],
   "source": [
    "pred_prob = pred_prob.flatten() #flatten the results"
   ]
  },
  {
   "cell_type": "code",
   "execution_count": 7,
   "metadata": {},
   "outputs": [
    {
     "data": {
      "text/plain": [
       "array([0.23957965, 0.28246608, 0.26584864, 0.30003056, 0.3898487 ,\n",
       "       0.2653199 , 0.3748808 , 0.4102957 , 0.99744207, 0.33107632,\n",
       "       0.0821729 , 0.5310318 , 0.7793258 , 0.90855604, 0.1409531 ,\n",
       "       0.58858466, 0.7027749 , 0.7973996 , 0.77470535, 0.26375106,\n",
       "       0.68270993, 0.1595205 , 0.539941  , 0.29163834, 0.30695593,\n",
       "       0.53001434, 0.7192281 , 0.76382273, 0.24083665, 0.7934619 ,\n",
       "       0.84260815, 0.9682116 , 0.5731735 , 0.92704386, 0.68594205,\n",
       "       0.8166479 , 0.8166478 , 0.96163976, 0.9540036 , 0.98081857,\n",
       "       0.8623096 , 0.4129715 , 0.64583015, 0.9662204 , 0.9236243 ],\n",
       "      dtype=float32)"
      ]
     },
     "execution_count": 7,
     "metadata": {},
     "output_type": "execute_result"
    }
   ],
   "source": [
    "pred_prob "
   ]
  },
  {
   "cell_type": "code",
   "execution_count": 8,
   "metadata": {},
   "outputs": [],
   "source": [
    "pred_class = pred_prob.copy()"
   ]
  },
  {
   "cell_type": "code",
   "execution_count": 9,
   "metadata": {},
   "outputs": [],
   "source": [
    "#we use 0.5 as the threshold for our predictions 1 meaning monkeypox and 0 meaning others\n",
    "pred_class[pred_class>=0.4] = 1 \n",
    "pred_class[pred_class<0.4] = 0"
   ]
  },
  {
   "cell_type": "code",
   "execution_count": 10,
   "metadata": {},
   "outputs": [
    {
     "data": {
      "text/plain": [
       "array([0.23957965, 0.28246608, 0.26584864, 0.30003056, 0.3898487 ,\n",
       "       0.2653199 , 0.3748808 , 0.4102957 , 0.99744207, 0.33107632,\n",
       "       0.0821729 , 0.5310318 , 0.7793258 , 0.90855604, 0.1409531 ,\n",
       "       0.58858466, 0.7027749 , 0.7973996 , 0.77470535, 0.26375106,\n",
       "       0.68270993, 0.1595205 , 0.539941  , 0.29163834, 0.30695593,\n",
       "       0.53001434, 0.7192281 , 0.76382273, 0.24083665, 0.7934619 ,\n",
       "       0.84260815, 0.9682116 , 0.5731735 , 0.92704386, 0.68594205,\n",
       "       0.8166479 , 0.8166478 , 0.96163976, 0.9540036 , 0.98081857,\n",
       "       0.8623096 , 0.4129715 , 0.64583015, 0.9662204 , 0.9236243 ],\n",
       "      dtype=float32)"
      ]
     },
     "execution_count": 10,
     "metadata": {},
     "output_type": "execute_result"
    }
   ],
   "source": [
    "pred_prob"
   ]
  },
  {
   "cell_type": "code",
   "execution_count": 11,
   "metadata": {},
   "outputs": [
    {
     "data": {
      "text/plain": [
       "array([0., 0., 0., 0., 0., 0., 0., 1., 1., 0., 0., 1., 1., 1., 0., 1., 1.,\n",
       "       1., 1., 0., 1., 0., 1., 0., 0., 1., 1., 1., 0., 1., 1., 1., 1., 1.,\n",
       "       1., 1., 1., 1., 1., 1., 1., 1., 1., 1., 1.], dtype=float32)"
      ]
     },
     "execution_count": 11,
     "metadata": {},
     "output_type": "execute_result"
    }
   ],
   "source": [
    "pred_class"
   ]
  },
  {
   "cell_type": "code",
   "execution_count": 12,
   "metadata": {},
   "outputs": [],
   "source": [
    "label = test_dataset.classes"
   ]
  },
  {
   "cell_type": "code",
   "execution_count": 13,
   "metadata": {},
   "outputs": [
    {
     "data": {
      "text/plain": [
       "array([0, 0, 0, 0, 0, 0, 0, 0, 0, 0, 0, 0, 0, 0, 0, 0, 0, 0, 0, 0, 0, 0,\n",
       "       0, 0, 0, 1, 1, 1, 1, 1, 1, 1, 1, 1, 1, 1, 1, 1, 1, 1, 1, 1, 1, 1,\n",
       "       1], dtype=int32)"
      ]
     },
     "execution_count": 13,
     "metadata": {},
     "output_type": "execute_result"
    }
   ],
   "source": [
    "label"
   ]
  },
  {
   "cell_type": "code",
   "execution_count": 14,
   "metadata": {},
   "outputs": [
    {
     "data": {
      "text/plain": [
       "<tf.Tensor: shape=(2, 2), dtype=int32, numpy=\n",
       "array([[14, 11],\n",
       "       [ 1, 19]], dtype=int32)>"
      ]
     },
     "execution_count": 14,
     "metadata": {},
     "output_type": "execute_result"
    }
   ],
   "source": [
    "cm = tf.math.confusion_matrix(label, pred_class)\n",
    "cm"
   ]
  },
  {
   "cell_type": "code",
   "execution_count": 15,
   "metadata": {},
   "outputs": [
    {
     "data": {
      "image/png": "[encoded data removed]",
      "text/plain": [
       "<Figure size 1000x700 with 2 Axes>"
      ]
     },
     "metadata": {},
     "output_type": "display_data"
    }
   ],
   "source": [
    "df_cm = pd.DataFrame(cm, index = ['Acutal Others','Actual Monkeypox'],\n",
    "                  columns = ['Predicted As Others','Predicted As Monkeypox'])\n",
    "plt.figure(figsize = (10,7))\n",
    "sn.heatmap(df_cm, annot=True, cmap='crest')\n",
    "plt.savefig('confusionMatrix.jpg')"
   ]
  },
  {
   "attachments": {},
   "cell_type": "markdown",
   "metadata": {},
   "source": [
    "## ROC Curve"
   ]
  },
  {
   "cell_type": "code",
   "execution_count": 16,
   "metadata": {},
   "outputs": [],
   "source": [
    "from sklearn.metrics import roc_curve"
   ]
  },
  {
   "cell_type": "code",
   "execution_count": 17,
   "metadata": {},
   "outputs": [],
   "source": [
    "\n",
    "fpr, tpr, thresholds = roc_curve(label, pred_prob) # get false positive rate, true positive rate for each threshold"
   ]
  },
  {
   "cell_type": "code",
   "execution_count": 18,
   "metadata": {},
   "outputs": [
    {
     "data": {
      "text/plain": [
       "20"
      ]
     },
     "execution_count": 18,
     "metadata": {},
     "output_type": "execute_result"
    }
   ],
   "source": [
    "len(thresholds)"
   ]
  },
  {
   "cell_type": "code",
   "execution_count": 19,
   "metadata": {},
   "outputs": [],
   "source": [
    "import matplotlib.pyplot as plt"
   ]
  },
  {
   "cell_type": "code",
   "execution_count": 20,
   "metadata": {},
   "outputs": [
    {
     "data": {
      "image/png": "[encoded data removed]",
      "text/plain": [
       "<Figure size 640x480 with 1 Axes>"
      ]
     },
     "metadata": {},
     "output_type": "display_data"
    }
   ],
   "source": [
    "fig = plt.figure()\n",
    "plt.plot(fpr, tpr)\n",
    "plt.plot([0, 1], [0, 1],'r--')\n",
    "fig.savefig('ROC curve.jpg')"
   ]
  }
 ],
 "metadata": {
  "kernelspec": {
   "display_name": "tf",
   "language": "python",
   "name": "python3"
  },
  "language_info": {
   "codemirror_mode": {
    "name": "ipython",
    "version": 3
   },
   "file_extension": ".py",
   "mimetype": "text/x-python",
   "name": "python",
   "nbconvert_exporter": "python",
   "pygments_lexer": "ipython3",
   "version": "3.10.8"
  },
  "orig_nbformat": 4,
  "vscode": {
   "interpreter": {
    "hash": "2da5d0a54d4bdbf2980b1264a6fab55d9e373bb0ffe402abf2ade3cc76ee9de7"
   }
  }
 },
 "nbformat": 4,
 "nbformat_minor": 2
}
